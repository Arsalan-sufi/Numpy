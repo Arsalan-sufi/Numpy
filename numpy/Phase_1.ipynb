{
 "cells": [
  {
   "cell_type": "markdown",
   "id": "2a937408",
   "metadata": {},
   "source": [
    "PHASE I"
   ]
  },
  {
   "cell_type": "code",
   "execution_count": null,
   "id": "176185a1-3991-450b-8844-4120790a3285",
   "metadata": {
    "notebookRunGroups": {
     "groupValue": "1"
    }
   },
   "outputs": [],
   "source": [
    "import numpy as np"
   ]
  },
  {
   "cell_type": "code",
   "execution_count": null,
   "id": "53769df4-e432-4b20-afef-44206822b0c9",
   "metadata": {},
   "outputs": [],
   "source": [
    "print(np.__version__)"
   ]
  },
  {
   "cell_type": "code",
   "execution_count": null,
   "id": "bdefb99e-d3e3-4bde-aada-d60268de4fc9",
   "metadata": {},
   "outputs": [],
   "source": [
    "### creating array from list"
   ]
  },
  {
   "cell_type": "code",
   "execution_count": 16,
   "id": "0cc9d94c-85db-4d3a-a677-4265fdacf4b8",
   "metadata": {},
   "outputs": [
    {
     "name": "stdout",
     "output_type": "stream",
     "text": [
      "1D array;  [1 2 3 4 5]\n",
      "2D array:  [[1 2 3]\n",
      " [4 5 6]]\n"
     ]
    }
   ],
   "source": [
    "arr_1d=np.array([1,2,3,4,5])\n",
    "print(\"1D array; \",arr_1d)\n",
    "\n",
    "arr_2d=np.array([[1,2,3],[4,5,6]])\n",
    "print(\"2D array: \",arr_2d)"
   ]
  },
  {
   "cell_type": "code",
   "execution_count": 17,
   "id": "3c1ca110",
   "metadata": {},
   "outputs": [],
   "source": [
    "###list vs numpy array"
   ]
  },
  {
   "cell_type": "code",
   "execution_count": 20,
   "id": "b00b80a0",
   "metadata": {},
   "outputs": [
    {
     "name": "stdout",
     "output_type": "stream",
     "text": [
      "pyhton list multipilication:  [1, 2, 3, 1, 2, 3, 1, 2, 3]\n",
      "numoy array multipilication:  [3 6 9]\n"
     ]
    }
   ],
   "source": [
    "py_list=[1,2,3]\n",
    "print(\"pyhton list multipilication: \",py_list*3)\n",
    " \n",
    "np_array=np.array([1,2,3]) #element wise multiplication\n",
    "print(\"numoy array multipilication: \",np_array*3)"
   ]
  },
  {
   "cell_type": "code",
   "execution_count": 21,
   "id": "6b21625b",
   "metadata": {},
   "outputs": [
    {
     "name": "stdout",
     "output_type": "stream",
     "text": [
      "\n",
      " list operation time:  0.07657003402709961\n",
      "\n",
      " Array operation time:  0.005298614501953125\n"
     ]
    }
   ],
   "source": [
    "import time as t \n",
    "start=t.time()\n",
    "py_list=[i*2 for i in range(1000000)]\n",
    "print(\"\\n list operation time: \",t.time()-start)\n",
    "\n",
    "start=t.time()\n",
    "np_array=np.arange(1000000)*2\n",
    "print(\"\\n Array operation time: \",t.time()-start)\n",
    "##Numpy is time efficient\n",
    "\n"
   ]
  },
  {
   "cell_type": "code",
   "execution_count": null,
   "id": "0e1a99d6",
   "metadata": {},
   "outputs": [],
   "source": [
    "#creating array from scratch"
   ]
  },
  {
   "cell_type": "code",
   "execution_count": 22,
   "id": "b29c789e",
   "metadata": {},
   "outputs": [
    {
     "name": "stdout",
     "output_type": "stream",
     "text": [
      "zeros array: \n",
      " [[0. 0. 0. 0.]\n",
      " [0. 0. 0. 0.]\n",
      " [0. 0. 0. 0.]]\n",
      "\n",
      "\n",
      "Ones array: \n",
      " [[1. 1. 1.]\n",
      " [1. 1. 1.]]\n",
      "\n",
      "\n",
      "full array: \n",
      " [[6 6 6]\n",
      " [6 6 6]\n",
      " [6 6 6]\n",
      " [6 6 6]]\n",
      "\n",
      "\n"
     ]
    }
   ],
   "source": [
    "#Crearing zeros array\n",
    "zeros=np.zeros([3,4])\n",
    "print(\"zeros array: \\n\",zeros)\n",
    "print(\"\\n\")\n",
    "\n",
    "#Crearing ones array\n",
    "ones=np.ones([2,3])\n",
    "print(\"Ones array: \\n\",ones)\n",
    "print(\"\\n\")\n",
    "\n",
    "#creating tuple\\array of any constant number\n",
    "full=np.full((4,3),6)\n",
    "print(\"full array: \\n\",full)\n",
    "print(\"\\n\")\n",
    "\n",
    "\n"
   ]
  },
  {
   "cell_type": "code",
   "execution_count": 26,
   "metadata": {},
   "outputs": [
    {
     "name": "stdout",
     "output_type": "stream",
     "text": [
      "random array: \n",
      " [[0.89941131 0.27801042 0.37240713 0.3232503 ]\n",
      " [0.61926242 0.95436874 0.92145268 0.44367772]\n",
      " [0.38099212 0.76669316 0.86391138 0.34150188]]\n",
      "sequence array \n",
      " [0 2 4 6 8]\n"
     ]
    }
   ],
   "source": [
    "##creating matrix with random values\n",
    "##Here we use np.random.random because random has many methods to use\n",
    "random=np.random.random([3,4])\n",
    "print(\"random array: \\n\",random)\n",
    "\n",
    "#np.arange(start, stop, step)\n",
    "#It expects 3 numbers, not a shape.\n",
    "#This function returns a 1D array with numbers starting from 0 up to (but not including) 10 with steps of 2.\n",
    "sequence =np.arange(0,10,2)\n",
    "print(\"sequence array \\n\",sequence)\n"
   ]
  },
  {
   "cell_type": "code",
   "execution_count": 27,
   "id": "38a82c0b",
   "metadata": {},
   "outputs": [
    {
     "name": "stdout",
     "output_type": "stream",
     "text": [
      "Vector \n",
      " [1 2 3]\n"
     ]
    }
   ],
   "source": [
    "#vector , matrix and tensor\n",
    "vector=np.array([1,2,3])\n",
    "print(\"Vector \\n\",vector)"
   ]
  },
  {
   "cell_type": "code",
   "execution_count": 28,
   "id": "4ce9e773",
   "metadata": {},
   "outputs": [
    {
     "name": "stdout",
     "output_type": "stream",
     "text": [
      "matrix\n",
      " [[1 2 3]\n",
      " [4 5 6]]\n"
     ]
    }
   ],
   "source": [
    "matrix=np.array([[1,2,3],\n",
    "                 [4,5,6]])\n",
    "print(\"matrix\\n\",matrix)"
   ]
  },
  {
   "cell_type": "code",
   "execution_count": 29,
   "id": "2049bbab",
   "metadata": {},
   "outputs": [
    {
     "name": "stdout",
     "output_type": "stream",
     "text": [
      "tensor\n",
      " [[1 2 3]\n",
      " [4 5 6]\n",
      " [5 6 7]]\n"
     ]
    }
   ],
   "source": [
    "tensor=np.array([[1,2,3],\n",
    "                 [4,5,6],\n",
    "                 [5,6,7,]])\n",
    "print(\"tensor\\n\",tensor)"
   ]
  },
  {
   "cell_type": "markdown",
   "id": "e3c24eee",
   "metadata": {},
   "source": [
    "#Array properties"
   ]
  },
  {
   "cell_type": "code",
   "execution_count": 30,
   "id": "97fed632",
   "metadata": {},
   "outputs": [
    {
     "name": "stdout",
     "output_type": "stream",
     "text": [
      "shape \n",
      " (2, 3)\n",
      "dimension \n",
      " 2\n",
      "size \n",
      " 6\n",
      "datatype \n",
      " int64\n"
     ]
    }
   ],
   "source": [
    "arr=np.array([[1,2,3],\n",
    "              [4,5,6]])\n",
    "print(\"shape \\n\",arr.shape)\n",
    "print(\"dimension \\n\",arr.ndim)\n",
    "print(\"size \\n\",arr.size)\n",
    "print(\"datatype \\n\",arr.dtype)"
   ]
  },
  {
   "cell_type": "markdown",
   "id": "63491d8e",
   "metadata": {},
   "source": [
    "Array reshapping"
   ]
  },
  {
   "cell_type": "code",
   "execution_count": 31,
   "id": "75dbcc90",
   "metadata": {},
   "outputs": [
    {
     "name": "stdout",
     "output_type": "stream",
     "text": [
      "original array \n",
      " [ 0  1  2  3  4  5  6  7  8  9 10 11]\n",
      "reshaped array \n",
      " [[ 0  1  2  3]\n",
      " [ 4  5  6  7]\n",
      " [ 8  9 10 11]]\n",
      "flattended array \n",
      " [ 0  1  2  3  4  5  6  7  8  9 10 11]\n",
      "\n",
      " ravled array [ 0  1  2  3  4  5  6  7  8  9 10 11]\n",
      "Transpose  \n",
      " [[ 0  4  8]\n",
      " [ 1  5  9]\n",
      " [ 2  6 10]\n",
      " [ 3  7 11]]\n"
     ]
    }
   ],
   "source": [
    "arr=np.arange(12)\n",
    "print(\"original array \\n\",arr)\n",
    "\n",
    "reshaped=arr.reshape((3,4))\n",
    "print(\"reshaped array \\n\",reshaped)\n",
    "\n",
    "flattened=reshaped.flatten()\n",
    "print(\"flattended array \\n\",flattened)\n",
    "\n",
    "##ravel (returns view, instead of copy i.e flatten returns copy)\n",
    "raveled=reshaped.ravel()\n",
    "print(\"\\n ravled array\" ,raveled)\n",
    "\n",
    "#Transpose\n",
    "\n",
    "transpose=reshaped.transpose()\n",
    "print(\"Transpose  \\n\", transpose)\n"
   ]
  }
 ],
 "metadata": {
  "kernelspec": {
   "display_name": "venv",
   "language": "python",
   "name": "python3"
  },
  "language_info": {
   "codemirror_mode": {
    "name": "ipython",
    "version": 3
   },
   "file_extension": ".py",
   "mimetype": "text/x-python",
   "name": "python",
   "nbconvert_exporter": "python",
   "pygments_lexer": "ipython3",
   "version": "3.13.5"
  }
 },
 "nbformat": 4,
 "nbformat_minor": 5
}
