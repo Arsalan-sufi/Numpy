{
 "cells": [
  {
   "cell_type": "markdown",
   "id": "a53e7a84",
   "metadata": {},
   "source": [
    "# Final Section (We actually use differnt library)"
   ]
  },
  {
   "cell_type": "markdown",
   "id": "b075ec17",
   "metadata": {},
   "source": []
  }
 ],
 "metadata": {
  "language_info": {
   "name": "python"
  }
 },
 "nbformat": 4,
 "nbformat_minor": 5
}
