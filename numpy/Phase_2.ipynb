{
 "cells": [
  {
   "cell_type": "markdown",
   "id": "d2bd9137",
   "metadata": {},
   "source": [
    "# PHASE 2\n",
    "\n",
    "### Numpy Array operations"
   ]
  },
  {
   "cell_type": "code",
   "execution_count": 2,
   "id": "f6839da8",
   "metadata": {},
   "outputs": [],
   "source": [
    "import numpy as np"
   ]
  },
  {
   "cell_type": "code",
   "execution_count": 3,
   "id": "2e9ea403",
   "metadata": {},
   "outputs": [
    {
     "name": "stdout",
     "output_type": "stream",
     "text": [
      "Basic slicing \n",
      " [3 4 5 6 7]\n",
      "With step \n",
      " [3 5 7]\n",
      "Negative indexing \n",
      " 1 1 9\n"
     ]
    }
   ],
   "source": [
    "arr=np.array([1,2,3,4,5,6,7,8,9])\n",
    "print(\"Basic slicing \\n\",arr[2:7])\n",
    "print(\"With step \\n\",arr[2:7:2])\n",
    "print(\"Negative indexing \\n\",arr[-9],arr[0],arr[-1])"
   ]
  },
  {
   "cell_type": "markdown",
   "id": "b541449b",
   "metadata": {},
   "source": [
    "### Indexing on 2D array"
   ]
  },
  {
   "cell_type": "code",
   "execution_count": 5,
   "id": "b91d63cd",
   "metadata": {},
   "outputs": [
    {
     "name": "stdout",
     "output_type": "stream",
     "text": [
      "Specific element \n",
      " 6\n",
      "Specific element \n",
      " 1\n",
      "Specific element \n",
      " 9\n",
      "Entire Row: \n",
      " [4 5 6]\n",
      "Entire column: \n",
      " [2 5 8]\n"
     ]
    }
   ],
   "source": [
    "arr_2d=np.array([[1,2,3],\n",
    "                 [4,5,6],\n",
    "                 [7,8,9]])\n",
    "\n",
    "print(\"Specific element \\n\", arr_2d[1,2])  #Means Ist row ka 2nd element\n",
    "print(\"Specific element \\n\", arr_2d[0,0])  #Means zeroth row ka zeroth element\n",
    "print(\"Specific element \\n\", arr_2d[2,2])  #Means 2nd row ka 2nd element\n",
    "print(\"Entire Row: \\n\", arr_2d[1]) \n",
    "print(\"Entire column: \\n\", arr_2d[:,1]) "
   ]
  },
  {
   "cell_type": "markdown",
   "id": "8ee0a813",
   "metadata": {},
   "source": [
    "### Sorting"
   ]
  },
  {
   "cell_type": "code",
   "execution_count": 7,
   "id": "83109679",
   "metadata": {},
   "outputs": [
    {
     "name": "stdout",
     "output_type": "stream",
     "text": [
      "Sorted array [1 2 3 4 5 6 7 8 9]\n",
      "Sorted array [[ 1  2 98]\n",
      " [ 0  4  6]\n",
      " [ 7  8  9]]\n",
      "Entire column: \n",
      " [[ 1  0  6]\n",
      " [ 4  2  9]\n",
      " [ 7  8 98]]\n",
      "Entire row: \n",
      " [[ 1  2 98]\n",
      " [ 0  4  6]\n",
      " [ 7  8  9]]\n",
      "selected column: \n",
      " [0 2 8]\n",
      "selected row: \n",
      " [7 8 9]\n"
     ]
    }
   ],
   "source": [
    "unsorted=np.array([1,2,3,4,5,6,7,8,9])\n",
    "print(\"Sorted array\",np.sort(unsorted))\n",
    "\n",
    "\n",
    "unsorted_arr_2d=np.array([[1,2,98],\n",
    "                 [4,0,6],\n",
    "                 [7,8,9]])\n",
    "print(\"Sorted array\",np.sort(unsorted_arr_2d))\n",
    "\n",
    "\n",
    "print(\"Entire column: \\n\", np.sort(unsorted_arr_2d ,axis=0))\n",
    "print(\"Entire row: \\n\", np.sort(unsorted_arr_2d ,axis=1))\n",
    "print(\"selected column: \\n\", np.sort(unsorted_arr_2d[:,1]))\n",
    "print(\"selected row: \\n\", np.sort(unsorted_arr_2d[2]))\n"
   ]
  },
  {
   "cell_type": "markdown",
   "id": "3fa9e7a4",
   "metadata": {},
   "source": [
    "### Filter"
   ]
  },
  {
   "cell_type": "code",
   "execution_count": 8,
   "id": "10026b07",
   "metadata": {},
   "outputs": [
    {
     "name": "stdout",
     "output_type": "stream",
     "text": [
      "Even numbers [2 4 6 8]\n"
     ]
    }
   ],
   "source": [
    "numbers=np.array([1,2,3,4,5,6,7,8,9])\n",
    "even_numbers=numbers[numbers%2==0]\n",
    "print(\"Even numbers\",even_numbers)"
   ]
  },
  {
   "cell_type": "markdown",
   "id": "963c5c40",
   "metadata": {},
   "source": [
    "### Fliter with mask"
   ]
  },
  {
   "cell_type": "code",
   "execution_count": 9,
   "id": "a461891a",
   "metadata": {},
   "outputs": [
    {
     "name": "stdout",
     "output_type": "stream",
     "text": [
      "Numbers > 5 : [6 7 8 9]\n",
      "Even numbers : [2 4 6 8]\n"
     ]
    }
   ],
   "source": [
    "mask = numbers >5\n",
    "print(\"Numbers > 5 :\", numbers[mask])\n",
    "\n",
    "mask=numbers%2==0\n",
    "print(\"Even numbers :\", numbers[mask])"
   ]
  },
  {
   "cell_type": "markdown",
   "id": "9998726b",
   "metadata": {},
   "source": [
    "### Fancing indexing vs np.where()\n"
   ]
  },
  {
   "cell_type": "code",
   "execution_count": 11,
   "id": "fc7938cd",
   "metadata": {},
   "outputs": [
    {
     "name": "stdout",
     "output_type": "stream",
     "text": [
      "[1 3 5]\n",
      "Np where : [6 7 8 9]\n"
     ]
    }
   ],
   "source": [
    "indicies =[0,2,4]\n",
    "print(numbers[indicies])\n",
    "\n",
    "#np.where --> similar to masking\n",
    "\n",
    "where_result=np.where(numbers>5)\n",
    "print(\"Np where :\",numbers[where_result])"
   ]
  },
  {
   "cell_type": "code",
   "execution_count": 12,
   "id": "318daa10",
   "metadata": {},
   "outputs": [
    {
     "name": "stdout",
     "output_type": "stream",
     "text": [
      "[6 7 8 9]\n",
      "[ 2  4  6  8 10 18 21 24 27]\n",
      "['false' 'false' 'false' 'false' 'false' 'true' 'true' 'true' 'true']\n"
     ]
    }
   ],
   "source": [
    "#Array with some conditions\n",
    "\n",
    "condition_array= np.where(numbers>5)\n",
    "print(numbers[condition_array])\n",
    "#lets understand where clause in detail \n",
    "condition_array= np.where(numbers>5,numbers*3,numbers*2)\n",
    "print(condition_array)# this means that if the number is > 5 (in numbers array ) multiply it by 4 else multiply it by 2.\n",
    "\n",
    "#for better understanding\n",
    "condition_array= np.where(numbers>5,\"true\",\"false\")\n",
    "print(condition_array)\n",
    "\n"
   ]
  },
  {
   "cell_type": "markdown",
   "id": "6ac44147",
   "metadata": {},
   "source": [
    "### Add or remove data"
   ]
  },
  {
   "cell_type": "code",
   "execution_count": 13,
   "id": "ee6d62f9",
   "metadata": {},
   "outputs": [
    {
     "name": "stdout",
     "output_type": "stream",
     "text": [
      "[5 7 9]\n",
      "[1 2 3 4 5 6]\n"
     ]
    }
   ],
   "source": [
    "arr1= np.array([1,2,3])\n",
    "arr2= np.array([4,5,6])\n",
    "\n",
    "combined=arr1+arr2 ##this will add 2 arrays not concatinate\n",
    "print(combined)\n",
    "\n",
    "#Now lets concatinate them\n",
    "combined=np.concatenate((arr1,arr2))\n",
    "print(combined)\n",
    "\n"
   ]
  },
  {
   "cell_type": "markdown",
   "id": "fd0745c1",
   "metadata": {},
   "source": [
    "### Array compatibility"
   ]
  },
  {
   "cell_type": "code",
   "execution_count": 14,
   "id": "2cc3e329",
   "metadata": {},
   "outputs": [
    {
     "name": "stdout",
     "output_type": "stream",
     "text": [
      "Compatibility Shapesopf a & b : False\n",
      "Compatibility Shapes of a & c : True\n"
     ]
    }
   ],
   "source": [
    "a=np.array([1,2,3])\n",
    "b=np.array([4,5,6,0])\n",
    "c=np.array([7,8,9])\n",
    "print(\"Compatibility Shapesopf a & b :\",a.shape==b.shape)\n",
    "print(\"Compatibility Shapes of a & c :\",a.shape==c.shape)"
   ]
  },
  {
   "cell_type": "markdown",
   "id": "de1d8605",
   "metadata": {},
   "source": [
    "### some more functions like additing rows or coloumns"
   ]
  },
  {
   "cell_type": "code",
   "execution_count": 16,
   "id": "0a97ed1d",
   "metadata": {},
   "outputs": [
    {
     "name": "stdout",
     "output_type": "stream",
     "text": [
      "[[1 2]\n",
      " [3 4]]\n",
      "[[1 2]\n",
      " [3 4]\n",
      " [5 6]\n",
      " [6 1]]\n",
      "\n",
      " [[1 2 5 1]\n",
      " [3 4 8 6]]\n"
     ]
    }
   ],
   "source": [
    "\n",
    "\n",
    "orginal=np.array([[1,2],[3,4],])\n",
    "new_row=np.array([[5,6],[6,1]])#shape should be same \n",
    "\n",
    "with_new_row=np.vstack((orginal ,new_row))\n",
    "print (orginal)\n",
    "\n",
    "print (with_new_row)\n",
    "##SHape should be as of orginal array\n",
    "new_col=np.array([[5,1],[8,6]])\n",
    "with_new_col=np.hstack((orginal,new_col))\n",
    "print(\"\\n\",with_new_col)\n",
    "\n"
   ]
  },
  {
   "cell_type": "markdown",
   "id": "a4209c83",
   "metadata": {},
   "source": [
    "### Deleting from an Array"
   ]
  },
  {
   "cell_type": "code",
   "execution_count": 17,
   "id": "c662f2d4",
   "metadata": {},
   "outputs": [
    {
     "name": "stdout",
     "output_type": "stream",
     "text": [
      "Array after deletion \n",
      " [ 1  2  3  4  5  6  7  8 23 24 24  4  3  9  7]\n"
     ]
    }
   ],
   "source": [
    "\n",
    "arr=np.array([[1,2,3,4,5,6,7,8],[23,24,24,4,5,3,9,7]])\n",
    "deleted=np.delete(arr,12)\n",
    "print(\"Array after deletion \\n\",deleted)"
   ]
  }
 ],
 "metadata": {
  "kernelspec": {
   "display_name": "venv",
   "language": "python",
   "name": "python3"
  },
  "language_info": {
   "codemirror_mode": {
    "name": "ipython",
    "version": 3
   },
   "file_extension": ".py",
   "mimetype": "text/x-python",
   "name": "python",
   "nbconvert_exporter": "python",
   "pygments_lexer": "ipython3",
   "version": "3.13.5"
  }
 },
 "nbformat": 4,
 "nbformat_minor": 5
}
